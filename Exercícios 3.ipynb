{
 "cells": [
  {
   "cell_type": "markdown",
   "id": "55be7dff-fb76-4805-b164-afe3088a6e14",
   "metadata": {},
   "source": [
    "# 1) Faça um programa para a leitura de duas notas parciais de um aluno. O programa deve calcular a média alcançada por aluno e apresentar:\n",
    "\n",
    "# - a mensagem \"Aprovado\", se a média alcançada for maior ou igual a 7;\n",
    "# - a mensagem \"Reprovado\", se a média for menor do que 7;\n",
    "# - a mensagem \"Aprovado com Distinção\", se a média for igual a 10."
   ]
  },
  {
   "cell_type": "code",
   "execution_count": 2,
   "id": "50a14199-ff88-4e98-ad63-b2309e482521",
   "metadata": {
    "tags": []
   },
   "outputs": [
    {
     "name": "stdin",
     "output_type": "stream",
     "text": [
      "Digite a primeira nota:  6\n",
      "Digite a segunda nota:  9\n"
     ]
    },
    {
     "name": "stdout",
     "output_type": "stream",
     "text": [
      "\n",
      "Média calculada: 7.5\n",
      "Aprovado\n"
     ]
    }
   ],
   "source": [
    "# Leitura das notas\n",
    "nota1 = float(input(\"Digite a primeira nota: \"))\n",
    "nota2 = float(input(\"Digite a segunda nota: \"))\n",
    "\n",
    "# Cálculo da média\n",
    "media = (nota1 + nota2) / 2\n",
    "\n",
    "# Mostrando a média\n",
    "print(f\"\\nMédia calculada: {media:.1f}\")  # :.1f formata para 1 casa decimal\n",
    "\n",
    "# Verificação das condições\n",
    "if media == 10:\n",
    "    print(\"Aprovado com Distinção\")\n",
    "elif media >= 7:\n",
    "    print(\"Aprovado\")\n",
    "else:\n",
    "    print(\"Reprovado\")"
   ]
  },
  {
   "cell_type": "markdown",
   "id": "de2fb3f7-acc3-4d43-9d5a-dcc4fcdca558",
   "metadata": {},
   "source": [
    "# 2) Escreva um script que leia três números e mostre o maior e o menor deles."
   ]
  },
  {
   "cell_type": "code",
   "execution_count": 3,
   "id": "8c5daf0c-9982-4813-b6db-f466bc3d7230",
   "metadata": {
    "tags": []
   },
   "outputs": [
    {
     "name": "stdin",
     "output_type": "stream",
     "text": [
      "Digite o primeiro número:  3\n",
      "Digite o segundo número:  6\n",
      "Digite o terceiro número:  8\n"
     ]
    },
    {
     "name": "stdout",
     "output_type": "stream",
     "text": [
      "\n",
      "Maior número: 8.0\n",
      "Menor número: 3.0\n"
     ]
    }
   ],
   "source": [
    "# Leitura dos números\n",
    "num1 = float(input(\"Digite o primeiro número: \"))\n",
    "num2 = float(input(\"Digite o segundo número: \"))\n",
    "num3 = float(input(\"Digite o terceiro número: \"))\n",
    "\n",
    "# Encontrando o maior\n",
    "maior = num1\n",
    "if num2 > maior:\n",
    "    maior = num2\n",
    "if num3 > maior:\n",
    "    maior = num3\n",
    "\n",
    "# Encontrando o menor\n",
    "menor = num1\n",
    "if num2 < menor:\n",
    "    menor = num2\n",
    "if num3 < menor:\n",
    "    menor = num3\n",
    "\n",
    "print()\n",
    "\n",
    "print(f\"Maior número: {maior}\")\n",
    "print(f\"Menor número: {menor}\")"
   ]
  },
  {
   "cell_type": "markdown",
   "id": "b80d66b9-6d97-46e9-b04d-28afbd1d4572",
   "metadata": {},
   "source": [
    "# 3) Nome na vertical em escada.\n",
    "\n",
    "# F\n",
    "# FU\n",
    "# FUL\n",
    "# FULA\n",
    "# FULAN\n",
    "# FULANO"
   ]
  },
  {
   "cell_type": "code",
   "execution_count": 4,
   "id": "62c221a0-856d-4326-976f-a72a9eadf18f",
   "metadata": {
    "tags": []
   },
   "outputs": [
    {
     "name": "stdin",
     "output_type": "stream",
     "text": [
      "Digite seu nome:  Maria\n"
     ]
    },
    {
     "name": "stdout",
     "output_type": "stream",
     "text": [
      "M\n",
      "Ma\n",
      "Mar\n",
      "Mari\n",
      "Maria\n"
     ]
    }
   ],
   "source": [
    "nome = input(\"Digite seu nome: \")\n",
    "\n",
    "# Construindo a escada\n",
    "for i in range(1, len(nome)+1):\n",
    "    print(nome[:i])"
   ]
  },
  {
   "cell_type": "markdown",
   "id": "2e893543-1f41-4575-a334-a439c35aafaf",
   "metadata": {},
   "source": [
    "# 4) A série de Fibonacci é formada pela sequência 1, 1, 2, 3, 5, 8, 13, 21, 34, 55,... (o próximo termo, a partir do terceiro, é sempre gerado a partir do somatório dos últimos dois). Faça um programa capaz de gerar a série até o n−ésimo termo (onde o valor n deve ser inserido pelo usuário)."
   ]
  },
  {
   "cell_type": "code",
   "execution_count": 5,
   "id": "a787e42c-af19-4608-9571-261c17a1b6dc",
   "metadata": {
    "tags": []
   },
   "outputs": [
    {
     "name": "stdin",
     "output_type": "stream",
     "text": [
      "Digite quantos termos da sequência Fibonacci deseja:  14\n"
     ]
    },
    {
     "name": "stdout",
     "output_type": "stream",
     "text": [
      "[1, 1, 2, 3, 5, 8, 13, 21, 34, 55, 89, 144, 233, 377]\n"
     ]
    }
   ],
   "source": [
    "n = int(input(\"Digite quantos termos da sequência Fibonacci deseja: \"))\n",
    "\n",
    "# Iniciando a sequência\n",
    "fib = [1, 1]\n",
    "\n",
    "# Gerando os próximos termos\n",
    "for i in range(2, n):\n",
    "    fib.append(fib[i-1] + fib[i-2])\n",
    "\n",
    "print(fib[:n])"
   ]
  },
  {
   "cell_type": "markdown",
   "id": "b0e3859f-5bf7-4080-ac99-04fad915470e",
   "metadata": {},
   "source": [
    "# 5) Faça um programa que leia e valide as seguintes informações:\n",
    "# - Nome: maior que 3 caracteres;\n",
    "# - Idade: entre 0 e 150;\n",
    "# - Salário: maior que zero;\n",
    "# - Sexo: 'f' ou 'm';\n",
    "# - Estado Civil: 's', 'c', 'v', 'd'."
   ]
  },
  {
   "cell_type": "code",
   "execution_count": 6,
   "id": "b1f5630a-1e36-439d-9d4e-e4fef84d92dd",
   "metadata": {
    "tags": []
   },
   "outputs": [
    {
     "name": "stdin",
     "output_type": "stream",
     "text": [
      "Digite seu nome (mais de 3 letras):  Maria\n"
     ]
    },
    {
     "name": "stdout",
     "output_type": "stream",
     "text": [
      "\n"
     ]
    },
    {
     "name": "stdin",
     "output_type": "stream",
     "text": [
      "Digite sua idade (0-150):  21\n"
     ]
    },
    {
     "name": "stdout",
     "output_type": "stream",
     "text": [
      "\n"
     ]
    },
    {
     "name": "stdin",
     "output_type": "stream",
     "text": [
      "Digite seu salário (>0):  1200\n"
     ]
    },
    {
     "name": "stdout",
     "output_type": "stream",
     "text": [
      "\n"
     ]
    },
    {
     "name": "stdin",
     "output_type": "stream",
     "text": [
      "Digite seu sexo (f/m):  f\n"
     ]
    },
    {
     "name": "stdout",
     "output_type": "stream",
     "text": [
      "\n"
     ]
    },
    {
     "name": "stdin",
     "output_type": "stream",
     "text": [
      "Digite seu estado civil (s/c/v/d):  c\n"
     ]
    },
    {
     "name": "stdout",
     "output_type": "stream",
     "text": [
      "\n",
      "\n",
      "Dados válidos:\n",
      "{'nome': 'Maria', 'idade': 21, 'salario': 1200.0, 'sexo': 'f', 'estado_civil': 'c'}\n"
     ]
    }
   ],
   "source": [
    "# Dicionário para armazenar os dados\n",
    "dados = {}\n",
    "\n",
    "# Validação do Nome\n",
    "while True:\n",
    "    dados['nome'] = input(\"Digite seu nome (mais de 3 letras): \")\n",
    "    if len(dados['nome']) > 3:\n",
    "        break\n",
    "    print(\"Nome inválido!\")\n",
    "\n",
    "print()\n",
    "\n",
    "# Validação da Idade\n",
    "while True:\n",
    "    dados['idade'] = int(input(\"Digite sua idade (0-150): \"))\n",
    "    if 0 <= dados['idade'] <= 150:\n",
    "        break\n",
    "    print(\"Idade inválida!\")\n",
    "\n",
    "print()\n",
    "\n",
    "# Validação do Salário\n",
    "while True:\n",
    "    dados['salario'] = float(input(\"Digite seu salário (>0): \"))\n",
    "    if dados['salario'] > 0:\n",
    "        break\n",
    "    print(\"Salário inválido!\")\n",
    "\n",
    "print()\n",
    "\n",
    "# Validação do Sexo\n",
    "while True:\n",
    "    dados['sexo'] = input(\"Digite seu sexo (f/m): \").lower()\n",
    "    if dados['sexo'] in ['f', 'm']:\n",
    "        break\n",
    "    print(\"Sexo inválido!\")\n",
    "\n",
    "print()\n",
    "\n",
    "# Validação do Estado Civil\n",
    "while True:\n",
    "    dados['estado_civil'] = input(\"Digite seu estado civil (s/c/v/d): \").lower()\n",
    "    if dados['estado_civil'] in ['s', 'c', 'v', 'd']:\n",
    "        break\n",
    "    print(\"Estado civil inválido!\")\n",
    "\n",
    "print()\n",
    "\n",
    "print(\"\\nDados válidos:\")\n",
    "print(dados)"
   ]
  },
  {
   "cell_type": "markdown",
   "id": "68f70ec5-eb63-44a5-8768-cc2ad577e2c9",
   "metadata": {},
   "source": [
    "# 6) Faça um programa que peça um número inteiro e determine se ele é ou não um número primo. Um número primo é aquele que é divisível somente por ele mesmo e por 1.\n",
    "# Dica: Utilize o operador aritmético `%`, que retorna o resto da divisão de dois números."
   ]
  },
  {
   "cell_type": "code",
   "execution_count": 7,
   "id": "b7e617b5-afd2-4f3c-82eb-fe2f49a6fb8d",
   "metadata": {
    "tags": []
   },
   "outputs": [
    {
     "name": "stdin",
     "output_type": "stream",
     "text": [
      "Digite um número inteiro:  12\n"
     ]
    },
    {
     "name": "stdout",
     "output_type": "stream",
     "text": [
      "12 não é primo\n"
     ]
    }
   ],
   "source": [
    "numero = int(input(\"Digite um número inteiro: \"))\n",
    "primo = True\n",
    "\n",
    "# Verificando se é primo\n",
    "if numero <= 1:\n",
    "    primo = False\n",
    "else:\n",
    "    for i in range(2, numero):\n",
    "        if numero % i == 0:\n",
    "            primo = False\n",
    "            break\n",
    "\n",
    "if primo:\n",
    "    print(f\"{numero} é primo\")\n",
    "else:\n",
    "    print(f\"{numero} não é primo\")"
   ]
  },
  {
   "cell_type": "code",
   "execution_count": null,
   "id": "407046ee-c5ed-4c87-9b75-96b642d546fd",
   "metadata": {},
   "outputs": [],
   "source": []
  }
 ],
 "metadata": {
  "kernelspec": {
   "display_name": "Python 3 (ipykernel)",
   "language": "python",
   "name": "python3"
  },
  "language_info": {
   "codemirror_mode": {
    "name": "ipython",
    "version": 3
   },
   "file_extension": ".py",
   "mimetype": "text/x-python",
   "name": "python",
   "nbconvert_exporter": "python",
   "pygments_lexer": "ipython3",
   "version": "3.11.5"
  }
 },
 "nbformat": 4,
 "nbformat_minor": 5
}
